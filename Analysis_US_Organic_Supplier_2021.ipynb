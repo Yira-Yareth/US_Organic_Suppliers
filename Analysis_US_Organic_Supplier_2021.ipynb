{
 "cells": [
  {
   "cell_type": "markdown",
   "metadata": {},
   "source": [
    "# Analysis; US organic Suppliers under NOP certification updated 2021\n",
    "\n",
    "## From cleaning data to the analysis\n",
    "\n",
    "Yira Rosas\n",
    "\n",
    "The dataset for this analysis was taken of US Goberment page: https://organic.ams.usda.gov/integrity/Reports/DataHistory.aspx"
   ]
  },
  {
   "cell_type": "code",
   "execution_count": 5,
   "metadata": {},
   "outputs": [],
   "source": [
    "#Defining the route access to download the dataset\n",
    "\n",
    "URL=\"https://organic.ams.usda.gov/integrity/MonthlyReports/INTEGRITY_Export_20211201.xlsx\""
   ]
  },
  {
   "cell_type": "code",
   "execution_count": 7,
   "metadata": {},
   "outputs": [
    {
     "data": {
      "text/plain": [
       "('Organic_Suppliers', <http.client.HTTPMessage at 0x271f10904f0>)"
      ]
     },
     "execution_count": 7,
     "metadata": {},
     "output_type": "execute_result"
    }
   ],
   "source": [
    "#Importing packages needed\n",
    "\n",
    "from urllib.request import urlretrieve\n",
    "urlretrieve(URL,\"Organic_Suppliers\")"
   ]
  },
  {
   "cell_type": "code",
   "execution_count": null,
   "metadata": {},
   "outputs": [],
   "source": []
  }
 ],
 "metadata": {
  "interpreter": {
   "hash": "be9772337e76630d57b874c7eb4812959236d388181218c853d83d1703fa1a09"
  },
  "kernelspec": {
   "display_name": "Python 3.9.7 64-bit ('base': conda)",
   "language": "python",
   "name": "python3"
  },
  "language_info": {
   "codemirror_mode": {
    "name": "ipython",
    "version": 3
   },
   "file_extension": ".py",
   "mimetype": "text/x-python",
   "name": "python",
   "nbconvert_exporter": "python",
   "pygments_lexer": "ipython3",
   "version": "3.9.7"
  },
  "orig_nbformat": 4
 },
 "nbformat": 4,
 "nbformat_minor": 2
}
